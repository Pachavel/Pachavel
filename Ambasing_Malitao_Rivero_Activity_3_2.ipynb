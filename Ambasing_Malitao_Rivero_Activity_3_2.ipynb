{
  "nbformat": 4,
  "nbformat_minor": 0,
  "metadata": {
    "colab": {
      "provenance": [],
      "authorship_tag": "ABX9TyNmfFxhjJkvCjj4dkZFqGdJ",
      "include_colab_link": true
    },
    "kernelspec": {
      "name": "python3",
      "display_name": "Python 3"
    },
    "language_info": {
      "name": "python"
    }
  },
  "cells": [
    {
      "cell_type": "markdown",
      "metadata": {
        "id": "view-in-github",
        "colab_type": "text"
      },
      "source": [
        "<a href=\"https://colab.research.google.com/github/Pachavel/Pachavel/blob/main/Ambasing_Malitao_Rivero_Activity_3_2.ipynb\" target=\"_parent\"><img src=\"https://colab.research.google.com/assets/colab-badge.svg\" alt=\"Open In Colab\"/></a>"
      ]
    },
    {
      "cell_type": "code",
      "execution_count": null,
      "metadata": {
        "id": "WNpz1Cr_k4AE"
      },
      "outputs": [],
      "source": [
        "import numpy as np\n",
        "arrX = []\n",
        "arrY = []\n",
        "arrX2 = []\n",
        "arrXY = []\n",
        "arrXsum = 0\n",
        "arrYsum = 0\n",
        "arrX2sum = 0\n",
        "arrXYsum = 0\n",
        "n = 0\n",
        "\n",
        "i = 1\n",
        "while i < 11: \n",
        "  try: \n",
        "    number = int(input(\"Please enter a number to be added for x:\\n\"))\n",
        "    arrX.insert(i-1, number)\n",
        "    i += 1\n",
        "  except ValueError:\n",
        "    print(\"Invalid input: please enter a number\") \n",
        "\n",
        "i = 1\n",
        "while i < 11:  \n",
        "  try:\n",
        "    number = int(input(\"Please enter a number to be added for y:\\n\"))\n",
        "    arrY.insert(i-1, number)\n",
        "    i += 1\n",
        "  except ValueError: \n",
        "    print(\"Invalid input: please enter a number\") \n",
        "\n",
        "for i in range(0, len(arrX)):    \n",
        "    arrX2.insert(i,pow(arrX[i],2))     \n",
        "    arrXY.insert(i,arrX[i]*arrY[i])     \n",
        "    arrXsum += arrX[i]\n",
        "    arrYsum += arrY[i]\n",
        "    arrX2sum += arrX2[i]\n",
        "    arrXYsum += arrXY[i]\n",
        "    n += 1\n",
        "\n",
        "a = ((arrYsum*arrX2sum) - (arrXsum*arrXYsum))/ ((n*(arrX2sum)) - (pow((arrXsum),2)))\n",
        "b = ((n*arrXYsum) - (arrXsum*arrYsum)) /(((n*arrX2sum)) - (pow((arrXsum),2)))\n",
        "\n",
        "print('\\nx   y   x^2 xy')\n",
        "\n",
        "for i in range(0, len(arrY)):    \n",
        "    print(str(arrX[i]) + '   ' + str(arrY[i]) + '   ' + str(arrX2[i]) + '   ' + str(arrXY[i]))   \n",
        "\n",
        "print('--------------')\n",
        "print(str(arrXsum) + '   ' + str(arrYsum) + '   ' + str(arrX2sum) + '   ' + str(arrXYsum))\n",
        "print('\\n(a)intercept:' + str(round(a,4)) + '  (b)slope:'+ str(round(b,4)))\n",
        "\n",
        "print('\\ny = ' + str(round(a,4)) + ' + ' + str(round(b,4)) + ' * x' )"
      ]
    },
    {
      "cell_type": "code",
      "source": [],
      "metadata": {
        "id": "RHT83-w7UygC"
      },
      "execution_count": null,
      "outputs": []
    },
    {
      "cell_type": "code",
      "source": [],
      "metadata": {
        "id": "4WzuQ-SaRzO4"
      },
      "execution_count": null,
      "outputs": []
    },
    {
      "cell_type": "code",
      "source": [],
      "metadata": {
        "id": "qJ3qQsCZRDsB"
      },
      "execution_count": null,
      "outputs": []
    },
    {
      "cell_type": "code",
      "source": [],
      "metadata": {
        "id": "Ff2TK3GwKHXC"
      },
      "execution_count": null,
      "outputs": []
    }
  ]
}